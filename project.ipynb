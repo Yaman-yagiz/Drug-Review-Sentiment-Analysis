{
 "cells": [
  {
   "cell_type": "code",
   "execution_count": 1,
   "id": "c747c5d6",
   "metadata": {},
   "outputs": [],
   "source": [
    "import pandas as pd\n",
    "import numpy as np\n",
    "from datetime import datetime"
   ]
  },
  {
   "cell_type": "code",
   "execution_count": 2,
   "id": "80b8b357",
   "metadata": {},
   "outputs": [],
   "source": [
    "df=pd.read_csv('drugsComTrain_raw.tsv',sep='\\t')\n",
    "df2=pd.read_csv('drugsComTest_raw.tsv',sep='\\t')\n",
    "df = df.append(df2, ignore_index=True, sort=False)"
   ]
  },
  {
   "cell_type": "code",
   "execution_count": 3,
   "id": "c8266786",
   "metadata": {},
   "outputs": [],
   "source": [
    "df['date']=df['date'].astype('datetime64[ns]')\n",
    "df = df.applymap(lambda s: s.lower() if type(s) == str else s) #Tüm karakterler küçültülür\n",
    "df.drop(columns=['Unnamed: 0'],inplace=True)"
   ]
  },
  {
   "cell_type": "code",
   "execution_count": 4,
   "id": "c2ca4520",
   "metadata": {},
   "outputs": [
    {
     "name": "stderr",
     "output_type": "stream",
     "text": [
      "C:\\Users\\Crash\\anaconda3\\lib\\site-packages\\pandas\\core\\generic.py:5507: SettingWithCopyWarning: \n",
      "A value is trying to be set on a copy of a slice from a DataFrame.\n",
      "Try using .loc[row_indexer,col_indexer] = value instead\n",
      "\n",
      "See the caveats in the documentation: https://pandas.pydata.org/pandas-docs/stable/user_guide/indexing.html#returning-a-view-versus-a-copy\n",
      "  self[name] = value\n"
     ]
    }
   ],
   "source": [
    "df_temp=df[df.condition.str.contains(\"</span>\") == True]\n",
    "df_temp.condition='NAN'"
   ]
  },
  {
   "cell_type": "code",
   "execution_count": 5,
   "id": "10e3ba91",
   "metadata": {},
   "outputs": [],
   "source": [
    "df.update(df_temp)"
   ]
  },
  {
   "cell_type": "code",
   "execution_count": 6,
   "id": "853d9960",
   "metadata": {},
   "outputs": [],
   "source": [
    "df.condition=df.condition.apply(lambda x: np.nan if x=='NAN' else x)"
   ]
  },
  {
   "cell_type": "code",
   "execution_count": 7,
   "id": "04bd3f18",
   "metadata": {},
   "outputs": [],
   "source": [
    "drug_condition_dict=dict()\n",
    "all_drugName=df['drugName'].unique().tolist()"
   ]
  },
  {
   "cell_type": "code",
   "execution_count": 8,
   "id": "da7ae070",
   "metadata": {},
   "outputs": [],
   "source": [
    "# sözlüğün key değerleri ilaç isimleri, value değerleri ise bu ilacın sahip olduğu unique conditionlar nan değerler olduğu\n",
    "# için nan değerleri silecek şekilde hesaplamalar yapıldı\n",
    "for i in all_drugName:\n",
    "    drug_condition_dict[i]=df[df['drugName']==i]['condition'].unique()\\\n",
    "    [pd.notna(np.array(df[df['drugName']==i]['condition'].unique(),dtype=object))]"
   ]
  },
  {
   "cell_type": "code",
   "execution_count": 9,
   "id": "a0de3c68",
   "metadata": {},
   "outputs": [
    {
     "data": {
      "text/plain": [
       "(215063, 6)"
      ]
     },
     "execution_count": 9,
     "metadata": {},
     "output_type": "execute_result"
    }
   ],
   "source": [
    "df.shape"
   ]
  },
  {
   "cell_type": "markdown",
   "id": "b4c20614",
   "metadata": {},
   "source": [
    "## conditionı olmayan 17 tane ilaç veri setinden silinecek"
   ]
  },
  {
   "cell_type": "code",
   "execution_count": 10,
   "id": "b1e1c44e",
   "metadata": {},
   "outputs": [],
   "source": [
    "non_condition=[k for k,v in drug_condition_dict.items() if len(v)==0]"
   ]
  },
  {
   "cell_type": "code",
   "execution_count": 11,
   "id": "571f677c",
   "metadata": {},
   "outputs": [],
   "source": [
    "index_non_condition=list()"
   ]
  },
  {
   "cell_type": "code",
   "execution_count": 12,
   "id": "df9ead72",
   "metadata": {},
   "outputs": [],
   "source": [
    "for i in non_condition:\n",
    "    index_non_condition.append(df[df['drugName']==i].index[0])"
   ]
  },
  {
   "cell_type": "code",
   "execution_count": 13,
   "id": "1b9d2237",
   "metadata": {},
   "outputs": [],
   "source": [
    "df.drop(index_non_condition,inplace=True)"
   ]
  },
  {
   "cell_type": "code",
   "execution_count": 14,
   "id": "bdbbb457",
   "metadata": {},
   "outputs": [
    {
     "data": {
      "text/plain": [
       "(215046, 6)"
      ]
     },
     "execution_count": 14,
     "metadata": {},
     "output_type": "execute_result"
    }
   ],
   "source": [
    "df.shape"
   ]
  },
  {
   "cell_type": "markdown",
   "id": "10ae5643",
   "metadata": {},
   "source": [
    "## conditionı 1 olan ilaçların bütün condition değerleri aynı olacak"
   ]
  },
  {
   "cell_type": "code",
   "execution_count": 15,
   "id": "361f4f12",
   "metadata": {},
   "outputs": [],
   "source": [
    "aranacak=df[df[\"condition\"].isna()==True][['drugName','condition','review']]\n",
    "aranacak['review']=aranacak['review'].str.strip('\"')"
   ]
  },
  {
   "cell_type": "code",
   "execution_count": 16,
   "id": "260d6098",
   "metadata": {},
   "outputs": [],
   "source": [
    "onecon_drugs = [k for k,v in drug_condition_dict.items() if len(v)==1]"
   ]
  },
  {
   "cell_type": "code",
   "execution_count": 17,
   "id": "68509399",
   "metadata": {},
   "outputs": [],
   "source": [
    "for i in aranacak.iloc:\n",
    "    if i[0] in onecon_drugs and pd.isna(i[1]):\n",
    "        i[1] = drug_condition_dict[i[0]][0]"
   ]
  },
  {
   "cell_type": "code",
   "execution_count": 18,
   "id": "ad2ea521",
   "metadata": {},
   "outputs": [],
   "source": [
    "df.update(aranacak)"
   ]
  },
  {
   "cell_type": "markdown",
   "id": "52c8f916",
   "metadata": {},
   "source": [
    "## conditionu boş olan değerleri review'dan doldurma"
   ]
  },
  {
   "cell_type": "code",
   "execution_count": 19,
   "id": "da6b9eaf",
   "metadata": {},
   "outputs": [],
   "source": [
    "import re\n",
    "from gensim.parsing.preprocessing import remove_stopwords\n",
    "for i in aranacak.iloc:\n",
    "    if pd.isna(i[1]):\n",
    "        cons = drug_condition_dict[i[0]]\n",
    "        review = re.sub(r'[^\\w\\s]','',i[2])\n",
    "        review = remove_stopwords(review)\n",
    "        for k in cons:\n",
    "            if k in review:\n",
    "                if pd.isna(i[1]):\n",
    "                    i[1] = k"
   ]
  },
  {
   "cell_type": "code",
   "execution_count": 20,
   "id": "baacbe0a",
   "metadata": {},
   "outputs": [],
   "source": [
    "df.update(aranacak)"
   ]
  },
  {
   "cell_type": "code",
   "execution_count": 21,
   "id": "d5a095e2",
   "metadata": {},
   "outputs": [
    {
     "data": {
      "text/plain": [
       "(215046, 6)"
      ]
     },
     "execution_count": 21,
     "metadata": {},
     "output_type": "execute_result"
    }
   ],
   "source": [
    "df.shape"
   ]
  },
  {
   "cell_type": "markdown",
   "id": "301c5f46",
   "metadata": {},
   "source": [
    "## Data Cleaning"
   ]
  },
  {
   "cell_type": "code",
   "execution_count": 22,
   "id": "0f9fd909",
   "metadata": {},
   "outputs": [],
   "source": [
    "import nltk\n",
    "from nltk.corpus import stopwords\n",
    "import textblob\n",
    "from textblob import Word\n",
    "\n",
    "sw=stopwords.words(\"english\")"
   ]
  },
  {
   "cell_type": "code",
   "execution_count": 23,
   "id": "c2acd3d5",
   "metadata": {},
   "outputs": [],
   "source": [
    "df = df.dropna()"
   ]
  },
  {
   "cell_type": "code",
   "execution_count": 24,
   "id": "9742ae0a",
   "metadata": {},
   "outputs": [
    {
     "data": {
      "text/plain": [
       "(213728, 6)"
      ]
     },
     "execution_count": 24,
     "metadata": {},
     "output_type": "execute_result"
    }
   ],
   "source": [
    "df.shape"
   ]
  },
  {
   "cell_type": "code",
   "execution_count": 25,
   "id": "cb1b0385",
   "metadata": {},
   "outputs": [],
   "source": [
    "def data_cleaning(df):\n",
    "    df[\"review\"]=df[\"review\"].str.replace(\"[^\\w\\s]\",\"\") # noktalama\n",
    "    df[\"review\"]=df[\"review\"].str.replace(\"\\d\",\"\") # sayıların silinmesi\n",
    "    df[\"review\"]=df[\"review\"].apply(lambda x: \" \".join(x for x in x.split() if x not in sw)) # stopwords\n",
    "    df[\"review\"]=df[\"review\"].apply(lambda x: \" \".join(Word(i).lemmatize() for i in x.split())) # lemmatization\n",
    "    return df['review']"
   ]
  },
  {
   "cell_type": "code",
   "execution_count": 26,
   "id": "b28dde77",
   "metadata": {},
   "outputs": [
    {
     "name": "stderr",
     "output_type": "stream",
     "text": [
      "<ipython-input-25-c94c74c9a8ed>:2: FutureWarning: The default value of regex will change from True to False in a future version.\n",
      "  df[\"review\"]=df[\"review\"].str.replace(\"[^\\w\\s]\",\"\") # noktalama\n",
      "<ipython-input-25-c94c74c9a8ed>:3: FutureWarning: The default value of regex will change from True to False in a future version.\n",
      "  df[\"review\"]=df[\"review\"].str.replace(\"\\d\",\"\") # sayıların silinmesi\n"
     ]
    }
   ],
   "source": [
    "df['review']=data_cleaning(df)"
   ]
  },
  {
   "cell_type": "code",
   "execution_count": 27,
   "id": "34bb9644",
   "metadata": {},
   "outputs": [],
   "source": [
    "df.reset_index(inplace=True,drop=True)"
   ]
  },
  {
   "cell_type": "code",
   "execution_count": 28,
   "id": "68eda943",
   "metadata": {},
   "outputs": [],
   "source": [
    "# bağımlı değişkeni kategorize etme\n",
    "df['label']=df['rating'].apply(lambda x: 0 if 0<x<6 else 1)"
   ]
  },
  {
   "cell_type": "markdown",
   "id": "71ae0056",
   "metadata": {},
   "source": [
    "## Feature Extraction"
   ]
  },
  {
   "cell_type": "code",
   "execution_count": 29,
   "id": "4cff5aa2",
   "metadata": {},
   "outputs": [],
   "source": [
    "from sklearn.feature_extraction.text import TfidfVectorizer\n",
    "from sklearn.feature_extraction.text import CountVectorizer"
   ]
  },
  {
   "cell_type": "code",
   "execution_count": 30,
   "id": "0ceab15d",
   "metadata": {},
   "outputs": [],
   "source": [
    "def feature_extraction(df,choice):\n",
    "    if choice == 1:\n",
    "        print(\"TF-IDF yöntemi seçildi\")\n",
    "        vectorizer = TfidfVectorizer(lowercase=False,ngram_range=(1, 2),dtype=np.byte,max_features=100000)\n",
    "        X = vectorizer.fit_transform(df['review'].tolist())\n",
    "        vocab = vectorizer.get_feature_names()\n",
    "        return X,vocab\n",
    "    if choice == 2:\n",
    "        print(\"BoW yöntemi seçildi\")\n",
    "        vectorizer=CountVectorizer(lowercase=False,dtype=np.byte,ngram_range=(1,2),max_features=100000)\n",
    "        X=vectorizer.fit_transform(df['review'].tolist())\n",
    "        vocab = vectorizer.get_feature_names()\n",
    "        return X,vocab"
   ]
  },
  {
   "cell_type": "code",
   "execution_count": 77,
   "id": "1b96a932",
   "metadata": {},
   "outputs": [
    {
     "name": "stdout",
     "output_type": "stream",
     "text": [
      "BoW yöntemi seçildi\n"
     ]
    }
   ],
   "source": [
    "X,vocab=feature_extraction(df,2)"
   ]
  },
  {
   "cell_type": "markdown",
   "id": "e6d28760",
   "metadata": {},
   "source": [
    "## One-Hot Encoding for unique condition"
   ]
  },
  {
   "cell_type": "code",
   "execution_count": 78,
   "id": "3b496b50",
   "metadata": {},
   "outputs": [],
   "source": [
    "import scipy\n",
    "from scipy import hstack\n",
    "from scipy.sparse import csc_matrix\n",
    "import scipy.sparse as sp"
   ]
  },
  {
   "cell_type": "code",
   "execution_count": 79,
   "id": "67bbf24a",
   "metadata": {},
   "outputs": [],
   "source": [
    "ohe=pd.get_dummies(df['condition'])"
   ]
  },
  {
   "cell_type": "code",
   "execution_count": 80,
   "id": "b3dd3103",
   "metadata": {},
   "outputs": [],
   "source": [
    "ohe=scipy.sparse.csr_matrix(ohe.values)"
   ]
  },
  {
   "cell_type": "code",
   "execution_count": 81,
   "id": "87b4b1d4",
   "metadata": {},
   "outputs": [],
   "source": [
    "X = sp.hstack((X,ohe))"
   ]
  },
  {
   "cell_type": "code",
   "execution_count": 82,
   "id": "292ceb8e",
   "metadata": {},
   "outputs": [
    {
     "data": {
      "text/plain": [
       "(213728, 100836)"
      ]
     },
     "execution_count": 82,
     "metadata": {},
     "output_type": "execute_result"
    }
   ],
   "source": [
    "X.shape"
   ]
  },
  {
   "cell_type": "code",
   "execution_count": 83,
   "id": "418813f4",
   "metadata": {},
   "outputs": [],
   "source": [
    "ohe=pd.get_dummies(df['drugName'])"
   ]
  },
  {
   "cell_type": "code",
   "execution_count": 84,
   "id": "b6e22b45",
   "metadata": {},
   "outputs": [],
   "source": [
    "ohe=scipy.sparse.csr_matrix(ohe.values)"
   ]
  },
  {
   "cell_type": "code",
   "execution_count": 85,
   "id": "8e641dbd",
   "metadata": {},
   "outputs": [],
   "source": [
    "X = sp.hstack((X,ohe))"
   ]
  },
  {
   "cell_type": "code",
   "execution_count": 86,
   "id": "691a9fe4",
   "metadata": {},
   "outputs": [
    {
     "data": {
      "text/plain": [
       "(213728, 104490)"
      ]
     },
     "execution_count": 86,
     "metadata": {},
     "output_type": "execute_result"
    }
   ],
   "source": [
    "X.shape"
   ]
  },
  {
   "cell_type": "markdown",
   "id": "e41294e3",
   "metadata": {},
   "source": [
    "## Select Percentile"
   ]
  },
  {
   "cell_type": "markdown",
   "id": "2cfcfa46",
   "metadata": {},
   "source": [
    "from sklearn.feature_selection import SelectPercentile\n",
    "\n",
    "# Assume some matrix X and labels y\n",
    "# 10 means only include the 10% best features\n",
    "selector = SelectPercentile(percentile=10)\n",
    "\n",
    "# A feature space with only 10% of the features\n",
    "X_new = selector.fit_transform(X, df['label'])\n",
    "\n",
    "# See the scores for all features\n",
    "X_new"
   ]
  },
  {
   "cell_type": "markdown",
   "id": "398dda4a",
   "metadata": {},
   "source": [
    "X=X.astype('int8')"
   ]
  },
  {
   "cell_type": "markdown",
   "id": "5a93989a",
   "metadata": {},
   "source": [
    "## Truncated SVD"
   ]
  },
  {
   "cell_type": "markdown",
   "id": "427c13b9",
   "metadata": {},
   "source": [
    "from sklearn.decomposition import TruncatedSVD"
   ]
  },
  {
   "cell_type": "markdown",
   "id": "21e9cdfd",
   "metadata": {},
   "source": [
    "svd = TruncatedSVD(n_components=100)\n",
    "a=svd.fit_transform(X)"
   ]
  },
  {
   "cell_type": "markdown",
   "id": "09c741d2",
   "metadata": {},
   "source": [
    "## Machine Learning Models"
   ]
  },
  {
   "cell_type": "code",
   "execution_count": 87,
   "id": "f33b2aea",
   "metadata": {},
   "outputs": [],
   "source": [
    "from sklearn.model_selection import train_test_split"
   ]
  },
  {
   "cell_type": "code",
   "execution_count": 88,
   "id": "8e87d40a",
   "metadata": {},
   "outputs": [],
   "source": [
    "X_train,X_test,y_train,y_test = train_test_split(X,df['label'],random_state=1,test_size=0.25)"
   ]
  },
  {
   "cell_type": "code",
   "execution_count": 89,
   "id": "28760e33",
   "metadata": {},
   "outputs": [],
   "source": [
    "from sklearn.metrics import accuracy_score, classification_report, confusion_matrix, mean_squared_error, roc_auc_score,f1_score,precision_score,recall_score,precision_recall_fscore_support\n",
    "from sklearn.model_selection import cross_val_score, GridSearchCV\n",
    "from numpy import mean\n",
    "from math import sqrt"
   ]
  },
  {
   "cell_type": "code",
   "execution_count": 90,
   "id": "ca0798b5",
   "metadata": {},
   "outputs": [
    {
     "data": {
      "text/plain": [
       "1    112305\n",
       "0     47991\n",
       "Name: label, dtype: int64"
      ]
     },
     "execution_count": 90,
     "metadata": {},
     "output_type": "execute_result"
    }
   ],
   "source": [
    "y_train.value_counts()"
   ]
  },
  {
   "cell_type": "code",
   "execution_count": 91,
   "id": "359906b9",
   "metadata": {},
   "outputs": [
    {
     "data": {
      "text/plain": [
       "1    37580\n",
       "0    15852\n",
       "Name: label, dtype: int64"
      ]
     },
     "execution_count": 91,
     "metadata": {},
     "output_type": "execute_result"
    }
   ],
   "source": [
    "y_test.value_counts()"
   ]
  },
  {
   "cell_type": "markdown",
   "id": "3e95cdfb",
   "metadata": {},
   "source": [
    "## SMOTE"
   ]
  },
  {
   "cell_type": "code",
   "execution_count": 46,
   "id": "35bc400d",
   "metadata": {},
   "outputs": [],
   "source": [
    "from imblearn.over_sampling import SMOTE\n",
    "\n",
    "sm = SMOTE(sampling_strategy=0.7)\n",
    "X_res, y_res = sm.fit_resample(X_train, y_train)"
   ]
  },
  {
   "cell_type": "code",
   "execution_count": 47,
   "id": "56187208",
   "metadata": {},
   "outputs": [
    {
     "data": {
      "text/plain": [
       "1    112305\n",
       "0     78613\n",
       "Name: label, dtype: int64"
      ]
     },
     "execution_count": 47,
     "metadata": {},
     "output_type": "execute_result"
    }
   ],
   "source": [
    "y_res.value_counts()"
   ]
  },
  {
   "cell_type": "markdown",
   "id": "15572d85",
   "metadata": {},
   "source": [
    "## ADASYN "
   ]
  },
  {
   "cell_type": "code",
   "execution_count": 92,
   "id": "f0015081",
   "metadata": {},
   "outputs": [],
   "source": [
    "from imblearn.over_sampling import ADASYN\n",
    "\n",
    "ada = ADASYN(sampling_strategy=0.7)\n",
    "X_train_ada, y_train_ada = ada.fit_resample(X_train, y_train)"
   ]
  },
  {
   "cell_type": "code",
   "execution_count": 93,
   "id": "5fd5b505",
   "metadata": {},
   "outputs": [
    {
     "data": {
      "text/plain": [
       "1    112305\n",
       "0     74507\n",
       "Name: label, dtype: int64"
      ]
     },
     "execution_count": 93,
     "metadata": {},
     "output_type": "execute_result"
    }
   ],
   "source": [
    "y_train_ada.value_counts()"
   ]
  },
  {
   "cell_type": "markdown",
   "id": "f8d0ec5a",
   "metadata": {},
   "source": [
    "## SMOTE-TOMEK"
   ]
  },
  {
   "cell_type": "code",
   "execution_count": 94,
   "id": "65cfee69",
   "metadata": {},
   "outputs": [],
   "source": [
    "from imblearn.combine import SMOTETomek\n",
    "\n",
    "smtom = SMOTETomek(sampling_strategy=0.7)\n",
    "X_train_smtom, y_train_smtom = smtom.fit_resample(X_train, y_train)"
   ]
  },
  {
   "cell_type": "code",
   "execution_count": 95,
   "id": "a186c4cb",
   "metadata": {},
   "outputs": [
    {
     "data": {
      "text/plain": [
       "1    112278\n",
       "0     78586\n",
       "Name: label, dtype: int64"
      ]
     },
     "execution_count": 95,
     "metadata": {},
     "output_type": "execute_result"
    }
   ],
   "source": [
    "y_train_smtom.value_counts()"
   ]
  },
  {
   "cell_type": "markdown",
   "id": "afb33543",
   "metadata": {},
   "source": [
    "# Borderline SMOTE"
   ]
  },
  {
   "cell_type": "code",
   "execution_count": 96,
   "id": "07ab7188",
   "metadata": {},
   "outputs": [],
   "source": [
    "from imblearn.over_sampling import BorderlineSMOTE\n",
    "\n",
    "bordsmo = BorderlineSMOTE(sampling_strategy=0.7)\n",
    "X_train_bordsmo, y_train_bordsmo = bordsmo.fit_resample(X_train, y_train)"
   ]
  },
  {
   "cell_type": "code",
   "execution_count": 97,
   "id": "7845397a",
   "metadata": {},
   "outputs": [
    {
     "data": {
      "text/plain": [
       "1    112305\n",
       "0     78613\n",
       "Name: label, dtype: int64"
      ]
     },
     "execution_count": 97,
     "metadata": {},
     "output_type": "execute_result"
    }
   ],
   "source": [
    "y_train_bordsmo.value_counts()"
   ]
  },
  {
   "cell_type": "markdown",
   "id": "b1ddc034",
   "metadata": {},
   "source": [
    "# KMeans SMOTE"
   ]
  },
  {
   "cell_type": "markdown",
   "id": "6cbd95e3",
   "metadata": {},
   "source": [
    "from imblearn.over_sampling import KMeansSMOTE\n",
    "\n",
    "kmeanssmote = KMeansSMOTE(sampling_strategy=0.7,)\n",
    "X_train_ksmo, y_train_ksmo = kmeanssmote.fit_resample(X_train, y_train)"
   ]
  },
  {
   "cell_type": "markdown",
   "id": "d731fe13",
   "metadata": {},
   "source": [
    "y_train_ksmo.value_counts()"
   ]
  },
  {
   "cell_type": "markdown",
   "id": "979b58a5",
   "metadata": {},
   "source": [
    "# SVM SMOTE"
   ]
  },
  {
   "cell_type": "markdown",
   "id": "12e614fb",
   "metadata": {},
   "source": [
    "from imblearn.over_sampling import SVMSMOTE\n",
    "\n",
    "svmsmo = SVMSMOTE(sampling_strategy=0.7)\n",
    "X_train_ssmo, y_train_ssmo = svmsmo.fit_resample(X_train, y_train)"
   ]
  },
  {
   "cell_type": "markdown",
   "id": "97138f21",
   "metadata": {},
   "source": [
    "y_train_ssmo.value_counts()"
   ]
  },
  {
   "cell_type": "code",
   "execution_count": null,
   "id": "e94b7d29",
   "metadata": {},
   "outputs": [],
   "source": [
    "scores=dict()"
   ]
  },
  {
   "cell_type": "markdown",
   "id": "bd692295",
   "metadata": {},
   "source": [
    "## Logistic Regression"
   ]
  },
  {
   "cell_type": "code",
   "execution_count": null,
   "id": "31c065e0",
   "metadata": {},
   "outputs": [],
   "source": [
    "def LogisticRegression(X_train, y_train,choice=None):\n",
    "    from sklearn.linear_model import LogisticRegression\n",
    "    lr=LogisticRegression()\n",
    "    model_lr=lr.fit(X_train,y_train)\n",
    "    prediction_lr=model_lr.predict(X_test)\n",
    "    print(\"Accuracy Score on traning data: \",lr.score(X_train,y_train))\n",
    "    print(\"Accuracy Score on test data: \",lr.score(X_test,y_test))\n",
    "    cv_score=cross_val_score(lr, X, df['label'], cv=5, scoring='accuracy',n_jobs=-1).mean()\n",
    "    print('Logistic Regression Cross Validation (K=5): {} \\n'.format(cv_score));\n",
    "\n",
    "    accuracy=accuracy_score(y_test, prediction_lr)\n",
    "    roc_auc=roc_auc_score(y_test, prediction_lr)\n",
    "    print(confusion_matrix(y_test, prediction_lr))\n",
    "    print(classification_report(y_test, prediction_lr))\n",
    "    print(\"Accuracy Score: \",accuracy)\n",
    "    print(\"Auc Score: \",roc_auc)\n",
    "    if choice ==1:\n",
    "        scores['Klasik SMOTE']=[cv_score,accuracy]\n",
    "        return scores\n",
    "    elif choice==2:\n",
    "        scores['ADASYN']=[cv_score,accuracy,roc_auc,mse]\n",
    "        return scores\n",
    "    elif choice==3:\n",
    "        scores['SMOTE-TOMEK']=[cv_score,accuracy,roc_auc,mse]\n",
    "        return scores\n",
    "    elif choice==4:\n",
    "        scores['Borderline SMOTE']=[cv_score,accuracy,roc_auc,mse]\n",
    "        return scores\n",
    "    elif choice==5:\n",
    "        scores['KMeans SMOTE']=[cv_score,accuracy,roc_auc,mse]\n",
    "        return scores\n",
    "    elif choice==6:\n",
    "        scores['SVM SMOTE']=[cv_score,accuracy,roc_auc,mse]\n",
    "        return scores\n",
    "    else:\n",
    "        scores['NO SMOTE']=[cv_score,accuracy,roc_auc,mse]\n",
    "        return scores"
   ]
  },
  {
   "cell_type": "code",
   "execution_count": null,
   "id": "4ca279d6",
   "metadata": {},
   "outputs": [],
   "source": [
    "LogisticRegression(X_res, y_res,1)"
   ]
  },
  {
   "cell_type": "markdown",
   "id": "f91d3d07",
   "metadata": {},
   "source": [
    "p=[{'max_iter':range(100,500,100),'tol':[0.0001,0.001,0.01,0.1,0.5],\\\n",
    "    'C':[0.5,1.0,3,7,10],\\\n",
    "    'solver':['newton-cg','lbfgs','liblinear','sag','saga']}]\n",
    "gs=GridSearchCV(estimator=lr,param_grid=p,scoring='accuracy',cv=5,n_jobs=-1,verbose=1,\\\n",
    "   return_train_score=True)\n",
    "grid_search=gs.fit(X_train,y_train)\n",
    "best_score=grid_search.best_score_\n",
    "best_parameters=grid_search.best_params_\n",
    "print('Logistic Regression CV=5 İle En İyi Sonuç: ',best_score)\n",
    "print('Logistic Regression En İyi Parametreler: ',best_parameters)"
   ]
  },
  {
   "cell_type": "markdown",
   "id": "bdccea7d",
   "metadata": {},
   "source": [
    "## Farklı scalerları model üzerinde test etmek"
   ]
  },
  {
   "cell_type": "code",
   "execution_count": 57,
   "id": "78906f18",
   "metadata": {},
   "outputs": [],
   "source": [
    "from sklearn.preprocessing import MinMaxScaler\n",
    "from sklearn.preprocessing import minmax_scale\n",
    "from sklearn.preprocessing import MaxAbsScaler\n",
    "from sklearn.preprocessing import StandardScaler\n",
    "from sklearn.preprocessing import RobustScaler\n",
    "from sklearn.preprocessing import Normalizer\n",
    "from sklearn.preprocessing import QuantileTransformer\n",
    "from sklearn.preprocessing import PowerTransformer"
   ]
  },
  {
   "cell_type": "code",
   "execution_count": 98,
   "id": "a995b51b",
   "metadata": {},
   "outputs": [],
   "source": [
    "def scalers(X_train,choice = None):\n",
    "    if choice==1: # hata\n",
    "        mas=MaxAbsScaler()\n",
    "        scaled_X_train=mas.fit_transform(X_train)\n",
    "        scaled_X_test=mas.transform(X_test)\n",
    "        return scaled_X_train, scaled_X_test\n",
    "    elif choice==2: # en iyisi biraz uzun sürüyor 10-15 dk\n",
    "        rs=RobustScaler(with_centering=False)\n",
    "        scaled_X_train=rs.fit_transform(X_train)\n",
    "        scaled_X_test=rs.transform(X_test)\n",
    "        return scaled_X_train, scaled_X_test\n",
    "    elif choice==3: # kötü sonuç veriyor (çok kısa)\n",
    "        ns=Normalizer()\n",
    "        scaled_X_train=ns.fit_transform(X_train)\n",
    "        scaled_X_test=ns.transform(X_test)\n",
    "        return scaled_X_train, scaled_X_test\n",
    "    elif choice==4:\n",
    "        qt=QuantileTransformer() # hata\n",
    "        scaled_X_train=qt.fit_transform(X_train)\n",
    "        scaled_X_test=qt.transform(X_test)\n",
    "        return scaled_X_train, scaled_X_test\n",
    "    else: # kısa sürüyor RobustScaler kadar iyi değil ama kötü de değil\n",
    "        sc=StandardScaler(with_mean=False)\n",
    "        scaled_X_train=sc.fit_transform(X_train)\n",
    "        scaled_X_test=sc.transform(X_test)\n",
    "        return scaled_X_train, scaled_X_test"
   ]
  },
  {
   "cell_type": "code",
   "execution_count": null,
   "id": "e58d4c3a",
   "metadata": {},
   "outputs": [],
   "source": [
    "scaled_X_train,scaled_X_test=scalers(X_res)"
   ]
  },
  {
   "cell_type": "markdown",
   "id": "04f7e210",
   "metadata": {},
   "source": [
    "## Naive Bayes"
   ]
  },
  {
   "cell_type": "code",
   "execution_count": null,
   "id": "d5b876a6",
   "metadata": {},
   "outputs": [],
   "source": [
    "from sklearn.naive_bayes import MultinomialNB"
   ]
  },
  {
   "cell_type": "code",
   "execution_count": null,
   "id": "c42edad9",
   "metadata": {},
   "outputs": [],
   "source": [
    "def NaiveBayes(y_train):\n",
    "    # MultinomialNB\n",
    "    # Tahmin edilecek sınıf nominal ise (çok sınıflı olabilir) Multinomial navie bayes kullanılabilir.\n",
    "    mnb=MultinomialNB()\n",
    "    mnb.fit(scaled_X_train,y_train)\n",
    "    y_pred=mnb.predict(scaled_X_test)\n",
    "    print(\"Accuracy Score on traning data\",mnb.score(scaled_X_train,y_train))\n",
    "    print(\"Accuracy Score on test data\",mnb.score(scaled_X_test,y_test))\n",
    "    print('Naive Bayes MultinomialNB Çekirdeği: {} \\n'.format(cross_val_score(mnb, X, df['label'], cv=5, scoring='accuracy').mean()));\n",
    "    print(confusion_matrix(y_test, y_pred))\n",
    "    print(classification_report(y_test, y_pred))\n",
    "    roc_auc=roc_auc_score(y_test, y_pred)\n",
    "    print(\"Accuracy Score: \",accuracy_score(y_test, y_pred))\n",
    "    print(\"Auc Score: \",roc_auc)"
   ]
  },
  {
   "cell_type": "code",
   "execution_count": null,
   "id": "dea597c4",
   "metadata": {},
   "outputs": [],
   "source": [
    "NaiveBayes(y_res)"
   ]
  },
  {
   "cell_type": "markdown",
   "id": "9224a889",
   "metadata": {},
   "source": [
    "## Support Vector Classifier"
   ]
  },
  {
   "cell_type": "code",
   "execution_count": null,
   "id": "1a2a68a1",
   "metadata": {},
   "outputs": [],
   "source": [
    "scaled_X_train,scaled_X_test=scalers(X_res,1)\n",
    "# TF-IDF için QuantileTransformer\n",
    "# BoW için MaxAbsScaler"
   ]
  },
  {
   "cell_type": "code",
   "execution_count": null,
   "id": "746f7de6",
   "metadata": {},
   "outputs": [],
   "source": [
    "from sklearn import svm"
   ]
  },
  {
   "cell_type": "code",
   "execution_count": null,
   "id": "399fcc3e",
   "metadata": {},
   "outputs": [],
   "source": [
    "# {‘linear’, ‘poly’, ‘rbf’, ‘sigmoid’, ‘precomputed’}, default=’rbf’\n",
    "# gamma{‘scale’, ‘auto’} or float, default=’scale’"
   ]
  },
  {
   "cell_type": "code",
   "execution_count": null,
   "id": "042a13e9",
   "metadata": {},
   "outputs": [],
   "source": [
    "def SVM(y_train):\n",
    "    svc = svm.LinearSVC()\n",
    "    svc.fit(scaled_X_train,y_train)\n",
    "    y_pred=svc.predict(scaled_X_test)\n",
    "    print(\"Accuracy Score on traning data\",svc.score(scaled_X_train,y_train))\n",
    "    print(\"Accuracy Score on test data\",svc.score(scaled_X_test,y_test))\n",
    "    print('Linear Support Vector Classifier: {} \\n'.format(cross_val_score(svc, X, df['label'], cv=5, scoring='accuracy').mean()));\n",
    "    print(confusion_matrix(y_test, y_pred))\n",
    "    print(classification_report(y_test, y_pred))\n",
    "    print(\"Accuracy Score: \",accuracy_score(y_test, y_pred))\n",
    "    print(\"Auc Score: \",roc_auc_score(y_test, y_pred))"
   ]
  },
  {
   "cell_type": "code",
   "execution_count": null,
   "id": "1cc91b1b",
   "metadata": {},
   "outputs": [],
   "source": [
    "SVM(y_res)"
   ]
  },
  {
   "cell_type": "markdown",
   "id": "965db2d7",
   "metadata": {},
   "source": [
    "## Stochastic Gradient Descent Classifier (SGDClassifier)"
   ]
  },
  {
   "cell_type": "code",
   "execution_count": null,
   "id": "748f091d",
   "metadata": {},
   "outputs": [],
   "source": [
    "from sklearn.linear_model import SGDClassifier\n",
    "from sklearn.model_selection import ParameterGrid\n",
    "import parfit.parfit as pf"
   ]
  },
  {
   "cell_type": "code",
   "execution_count": null,
   "id": "8180f751",
   "metadata": {},
   "outputs": [],
   "source": [
    "scores=dict()\n",
    "def SGD(X_train,y_train,X_test,y_test,choice=None):\n",
    "    grid = {\n",
    "        'alpha': [1e-5,1e-4, 1e-3, 1e-2, 1e-1, 1e0, 1e1], # learning rate\n",
    "        'max_iter': range(300,1100,200), # number of epochs\n",
    "        'loss': ['log'], # logistic regression,\n",
    "        'penalty': ['l2','elasticnet'],\n",
    "        'n_jobs': [-1]\n",
    "    }\n",
    "    paramGrid = ParameterGrid(grid)\n",
    "\n",
    "    bestModel, bestScore, allModels, allScores = pf.bestFit(SGDClassifier, paramGrid,\n",
    "               X_train, y_train, X_test, y_test, \n",
    "               metric = roc_auc_score,\n",
    "               scoreLabel = \"ROC-AUC EĞRİSİ SKORU\")\n",
    "    if choice ==1:\n",
    "        scores['Klasik SMOTE']=[bestModel,bestScore]\n",
    "        return scores\n",
    "    elif choice==2:\n",
    "        scores['ADASYN']=[bestModel,bestScore]\n",
    "        return scores\n",
    "    elif choice==3:\n",
    "        scores['SMOTE-TOMEK']=[bestModel,bestScore]\n",
    "        return scores\n",
    "    elif choice==4:\n",
    "        scores['Borderline SMOTE']=[bestModel,bestScore]\n",
    "        return scores\n",
    "    elif choice==5:\n",
    "        scores['KMeans SMOTE']=[bestModel,bestScore]\n",
    "        return scores\n",
    "    elif choice==6:\n",
    "        scores['SVM SMOTE']=[bestModel,bestScore]\n",
    "        return scores\n",
    "    else:\n",
    "        scores['NO SMOTE']=[bestModel,bestScore]\n",
    "        return scores,bestModel,bestScore\n",
    "    print(bestModel,bestScore)"
   ]
  },
  {
   "cell_type": "code",
   "execution_count": null,
   "id": "289e5707",
   "metadata": {},
   "outputs": [],
   "source": [
    "SGD_scores,model,b_score=SGD(X_res,y_res,X_test,y_test)"
   ]
  },
  {
   "cell_type": "code",
   "execution_count": null,
   "id": "dd85d837",
   "metadata": {},
   "outputs": [],
   "source": [
    "SGD_scores"
   ]
  },
  {
   "cell_type": "code",
   "execution_count": null,
   "id": "1a195ef7",
   "metadata": {},
   "outputs": [],
   "source": [
    "print(classification_report(y_test,model.predict(X_test)))"
   ]
  },
  {
   "cell_type": "code",
   "execution_count": null,
   "id": "4109b5e6",
   "metadata": {},
   "outputs": [],
   "source": [
    "b_score"
   ]
  },
  {
   "cell_type": "markdown",
   "id": "06999c93",
   "metadata": {},
   "source": [
    "## Perceptron"
   ]
  },
  {
   "cell_type": "code",
   "execution_count": 72,
   "id": "81b5fbad",
   "metadata": {},
   "outputs": [],
   "source": [
    "from sklearn.linear_model import Perceptron"
   ]
  },
  {
   "cell_type": "code",
   "execution_count": 73,
   "id": "6ac6f3dd",
   "metadata": {},
   "outputs": [],
   "source": [
    "#scaled_X_train,scaled_X_test=scalers(X_train_bordsmo,1) # TF-IDF MaxAbsScaler"
   ]
  },
  {
   "cell_type": "code",
   "execution_count": 99,
   "id": "82e2e3c1",
   "metadata": {},
   "outputs": [],
   "source": [
    "def PerceptronClassifier(X_train, y_train):\n",
    "    pt=Perceptron()\n",
    "    pt_model=pt.fit(X_train,y_train)\n",
    "    prediction_pt=pt_model.predict(scaled_X_test)\n",
    "    print(\"Accuracy Score on traning data: \",pt.score(X_train,y_train))\n",
    "    print(\"Accuracy Score on test data: \",pt.score(scaled_X_test,y_test))\n",
    "    cv_score=cross_val_score(pt, X, df['label'], cv=5, scoring='accuracy',n_jobs=-1).mean()\n",
    "    print('Perceptron Cross Validation (K=5): {} \\n'.format(cv_score));\n",
    "\n",
    "    accuracy=accuracy_score(y_test, prediction_pt)\n",
    "    roc_auc=roc_auc_score(y_test, prediction_pt)\n",
    "    print(confusion_matrix(y_test, prediction_pt))\n",
    "    print(classification_report(y_test, prediction_pt))\n",
    "    print(\"Accuracy Score: \",accuracy)\n",
    "    print(\"Auc Score: \",roc_auc)"
   ]
  },
  {
   "cell_type": "code",
   "execution_count": 108,
   "id": "cd86c81f",
   "metadata": {},
   "outputs": [
    {
     "name": "stdout",
     "output_type": "stream",
     "text": [
      "Accuracy Score on traning data:  0.9965796834242974\n",
      "Accuracy Score on test data:  0.8535896092229376\n",
      "Perceptron Cross Validation (K=5): 0.9243009940953911 \n",
      "\n",
      "[[13204  2648]\n",
      " [ 5175 32405]]\n",
      "              precision    recall  f1-score   support\n",
      "\n",
      "           0       0.72      0.83      0.77     15852\n",
      "           1       0.92      0.86      0.89     37580\n",
      "\n",
      "    accuracy                           0.85     53432\n",
      "   macro avg       0.82      0.85      0.83     53432\n",
      "weighted avg       0.86      0.85      0.86     53432\n",
      "\n",
      "Accuracy Score:  0.8535896092229376\n",
      "Auc Score:  0.8476243027407457\n"
     ]
    }
   ],
   "source": [
    "PerceptronClassifier(X_train_bordsmo, y_train_bordsmo)"
   ]
  },
  {
   "cell_type": "markdown",
   "id": "5cc29603",
   "metadata": {},
   "source": [
    "## RidgeClassifier"
   ]
  },
  {
   "cell_type": "code",
   "execution_count": 109,
   "id": "ccd0348f",
   "metadata": {},
   "outputs": [],
   "source": [
    "from sklearn.linear_model import RidgeClassifier"
   ]
  },
  {
   "cell_type": "code",
   "execution_count": 110,
   "id": "2c82acc8",
   "metadata": {},
   "outputs": [],
   "source": [
    "def Ridge(X_train, y_train):\n",
    "    rc=RidgeClassifier()\n",
    "    rc_model=rc.fit(X_train,y_train)\n",
    "    prediction_rc=rc_model.predict(X_test)\n",
    "    print(\"Accuracy Score on traning data: \",rc.score(X_train,y_train))\n",
    "    print(\"Accuracy Score on test data: \",rc.score(X_test,y_test))\n",
    "    cv_score=cross_val_score(rc, X, df['label'], cv=5, scoring='accuracy',n_jobs=-1).mean()\n",
    "    print('RidgeClassifier Cross Validation (K=5): {} \\n'.format(cv_score));\n",
    "\n",
    "    accuracy=accuracy_score(y_test, prediction_rc)\n",
    "    roc_auc=roc_auc_score(y_test, prediction_rc)\n",
    "    print(confusion_matrix(y_test, prediction_rc))\n",
    "    print(classification_report(y_test, prediction_rc))\n",
    "    print(\"Accuracy Score: \",accuracy)\n",
    "    print(\"Auc Score: \",roc_auc)"
   ]
  },
  {
   "cell_type": "code",
   "execution_count": 111,
   "id": "875f6d62",
   "metadata": {},
   "outputs": [
    {
     "name": "stdout",
     "output_type": "stream",
     "text": [
      "Accuracy Score on traning data:  0.9921117966875832\n",
      "Accuracy Score on test data:  0.8805397514597993\n",
      "RidgeClassifier Cross Validation (K=5): 0.8931258379965952 \n",
      "\n",
      "[[13317  2535]\n",
      " [ 3848 33732]]\n",
      "              precision    recall  f1-score   support\n",
      "\n",
      "           0       0.78      0.84      0.81     15852\n",
      "           1       0.93      0.90      0.91     37580\n",
      "\n",
      "    accuracy                           0.88     53432\n",
      "   macro avg       0.85      0.87      0.86     53432\n",
      "weighted avg       0.88      0.88      0.88     53432\n",
      "\n",
      "Accuracy Score:  0.8805397514597993\n",
      "Auc Score:  0.8688441896751982\n"
     ]
    }
   ],
   "source": [
    "Ridge(X_train_bordsmo, y_train_bordsmo)"
   ]
  },
  {
   "cell_type": "markdown",
   "id": "7bb41390",
   "metadata": {},
   "source": [
    "## Klasik SGDClassifier"
   ]
  },
  {
   "cell_type": "code",
   "execution_count": null,
   "id": "4283df96",
   "metadata": {},
   "outputs": [],
   "source": [
    "def ClassicSGD(X_train, y_train):\n",
    "    sgd=SGDClassifier()\n",
    "    sgd_model=sgd.fit(X_train,y_train)\n",
    "    prediction_sgd=sgd_model.predict(X_test)\n",
    "    print(\"Accuracy Score on traning data: \",sgd.score(X_train,y_train))\n",
    "    print(\"Accuracy Score on test data: \",sgd.score(X_test,y_test))\n",
    "    cv_score=cross_val_score(sgd, X, df['label'], cv=5, scoring='accuracy',n_jobs=-1).mean()\n",
    "    print('RidgeClassifier Cross Validation (K=5): {} \\n'.format(cv_score));\n",
    "\n",
    "    accuracy=accuracy_score(y_test, prediction_sgd)\n",
    "    roc_auc=roc_auc_score(y_test, prediction_sgd)\n",
    "    print(confusion_matrix(y_test, prediction_sgd))\n",
    "    print(classification_report(y_test, prediction_sgd))\n",
    "    print(\"Accuracy Score: \",accuracy)\n",
    "    print(\"Auc Score: \",roc_auc)"
   ]
  },
  {
   "cell_type": "code",
   "execution_count": null,
   "id": "80cce403",
   "metadata": {},
   "outputs": [],
   "source": [
    "ClassicSGD(X_res,y_res)"
   ]
  },
  {
   "cell_type": "code",
   "execution_count": null,
   "id": "268f4406",
   "metadata": {},
   "outputs": [],
   "source": []
  },
  {
   "cell_type": "code",
   "execution_count": null,
   "id": "97b23f94",
   "metadata": {},
   "outputs": [],
   "source": []
  },
  {
   "cell_type": "code",
   "execution_count": null,
   "id": "24797746",
   "metadata": {},
   "outputs": [],
   "source": []
  },
  {
   "cell_type": "code",
   "execution_count": null,
   "id": "60fdff48",
   "metadata": {},
   "outputs": [],
   "source": []
  }
 ],
 "metadata": {
  "kernelspec": {
   "display_name": "Python 3",
   "language": "python",
   "name": "python3"
  },
  "language_info": {
   "codemirror_mode": {
    "name": "ipython",
    "version": 3
   },
   "file_extension": ".py",
   "mimetype": "text/x-python",
   "name": "python",
   "nbconvert_exporter": "python",
   "pygments_lexer": "ipython3",
   "version": "3.8.8"
  }
 },
 "nbformat": 4,
 "nbformat_minor": 5
}
